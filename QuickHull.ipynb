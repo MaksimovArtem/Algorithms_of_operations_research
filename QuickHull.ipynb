{
 "cells": [
  {
   "cell_type": "markdown",
   "metadata": {},
   "source": [
    "# Лабораторная работа №2\n",
    "## Выполнили Смирнов Егор и Максимов Артем"
   ]
  },
  {
   "cell_type": "code",
   "execution_count": 98,
   "metadata": {},
   "outputs": [],
   "source": [
    "import numpy as np\n",
    "import random\n",
    "import matplotlib.pyplot as plt"
   ]
  },
  {
   "cell_type": "code",
   "execution_count": 99,
   "metadata": {},
   "outputs": [],
   "source": [
    "def points_generator(count):\n",
    "    pts_list = []\n",
    "    for i in range(count):\n",
    "        pts_list.append([random.randint(0,10), random.randint(0,10)])\n",
    "    end_list = np.unique(pts_list, axis=0)   \n",
    "    return end_list.tolist()"
   ]
  },
  {
   "cell_type": "code",
   "execution_count": 100,
   "metadata": {},
   "outputs": [],
   "source": [
    "def picture(count):\n",
    "    pts_list = points_generator(count)\n",
    "    x_list = [x for [x,y] in pts_list]\n",
    "    y_list = [y for [x,y] in pts_list]\n",
    "    \n",
    "    plt.figure()\n",
    "    plt.scatter(0.0, 10.0)\n",
    "    plt.plot(x_list, y_list,'ro')\n",
    "    plt.grid()\n",
    "    plt.show()\n",
    "    return pts_list"
   ]
  },
  {
   "cell_type": "markdown",
   "metadata": {},
   "source": [
    "The blue point is a lie!"
   ]
  },
  {
   "cell_type": "code",
   "execution_count": 101,
   "metadata": {},
   "outputs": [
    {
     "data": {
      "image/png": "[encoded data removed]",
      "text/plain": [
       "<Figure size 432x288 with 1 Axes>"
      ]
     },
     "metadata": {
      "needs_background": "light"
     },
     "output_type": "display_data"
    }
   ],
   "source": [
    "list = picture(10)"
   ]
  },
  {
   "cell_type": "markdown",
   "metadata": {},
   "source": [
    "    Def Get Hull Points (point list):  \n",
    "       Find the min x, max in list of points  \n",
    "       Hull pts = Quick Hull (point list, min, max)  \n",
    "       Hull pts = Hull pts + Quick Hull (point list, max, min)  \n",
    "       Return Hull pts\n"
   ]
  },
  {
   "cell_type": "code",
   "execution_count": 102,
   "metadata": {},
   "outputs": [],
   "source": [
    "def get_hull_points(pts_list):\n",
    "    hull_points = []\n",
    "    min_point, max_point = find_min_max_pts(pts_list)\n",
    "    \n",
    "    hull_points = quick_hull(pts_list, min_point, max_point)\n",
    "    hull_points += (quick_hull(pts_list, max_point, min_point))\n",
    "    return hull_points"
   ]
  },
  {
   "cell_type": "code",
   "execution_count": 103,
   "metadata": {},
   "outputs": [],
   "source": [
    "def find_min_max_pts(pts_list):\n",
    "    x_list = [x for [x,y] in pts_list]\n",
    "    x_max = max(x_list)\n",
    "    x_min = min(x_list)\n",
    "    min_point = [[x,y] for [x,y] in pts_list if x == x_min]\n",
    "    max_point = [[x,y] for [x,y] in pts_list if x == x_max]\n",
    "    return min_point[0], max_point[0]"
   ]
  },
  {
   "cell_type": "markdown",
   "metadata": {},
   "source": [
    "    Def Quick Hull (point list, min, max)  \n",
    "   \n",
    "       New pt list = Find all the points left of the line (min, max)  \n",
    "       ptC = A point on the left side with the greatest distance from the line  \n",
    "       if a ptC was not found  \n",
    "           then return the max point  \n",
    "       Hull points = Quick Hull (New pt list, min, ptC)  \n",
    "       Hull points = Hull points + Quick Hull (New pt list, max, ptC)  \n",
    "       Return Hull points  "
   ]
  },
  {
   "cell_type": "code",
   "execution_count": 104,
   "metadata": {},
   "outputs": [],
   "source": [
    "def quick_hull(pts_list, min_pt, max_pt):\n",
    "    hull_points = []\n",
    "    lonely_point = [[-1,-1]]\n",
    "    new_pts_list = get_points_above_the_line(min_pt, max_pt, pts_list)\n",
    "    lonely_point[0] = find_lonely_point(new_pts_list, min_pt, max_pt)\n",
    "    if lonely_point[0] == [-1,-1]:\n",
    "        return max_pt\n",
    "    hull_points = quick_hull(new_pts_list, min_pt, lonely_point[0])\n",
    "    hull_points += quick_hull(new_pts_list, lonely_point[0], max_pt)\n",
    "    return hull_points"
   ]
  },
  {
   "cell_type": "code",
   "execution_count": 105,
   "metadata": {},
   "outputs": [],
   "source": [
    "def get_points_above_the_line(min_pt, max_pt, pts_list):\n",
    "    if len(pts_list) != 0:\n",
    "        new_pts_list = [[x,y] for [x,y] in pts_list if\\\n",
    "                    (x - min_pt[0])*(max_pt[1] - min_pt[1]) - (y - min_pt[1]) * (max_pt[0] - min_pt[0]) < 0]\n",
    "        return new_pts_list\n",
    "\n",
    "    return pts_list"
   ]
  },
  {
   "cell_type": "markdown",
   "metadata": {},
   "source": [
    "lonely point aka the most remore point"
   ]
  },
  {
   "cell_type": "code",
   "execution_count": 106,
   "metadata": {},
   "outputs": [],
   "source": [
    "def find_lonely_point(pts_list, min_pt, max_pt):\n",
    "    max_dist = 0\n",
    "    lonely_point = [[-1,-1]]\n",
    "    for pt in pts_list:\n",
    "        if pt != min_pt and pt != max_pt:\n",
    "            dist = calculate_distance(pt, min_pt, max_pt)\n",
    "            if dist > max_dist:\n",
    "                max_dist = dist\n",
    "                lonely_point[0] = pt\n",
    "    return lonely_point[0]"
   ]
  },
  {
   "cell_type": "code",
   "execution_count": 107,
   "metadata": {},
   "outputs": [],
   "source": [
    "def calculate_distance(pt, min_pt, max_pt):\n",
    "    x1 = min_pt[0]\n",
    "    y1 = min_pt[1]\n",
    "    x2 = max_pt[0]\n",
    "    y2 = max_pt[1]\n",
    "    x0 = pt[0]\n",
    "    y0 = pt[1]\n",
    "    nom = abs((y2 - y1) * x0 - (x2 - x1) * y0 + x2 * y1 - y2 * x1)\n",
    "    denom = ((y2 - y1)**2 + (x2 - x1) ** 2) ** 0.5\n",
    "    result = nom / denom\n",
    "    return result"
   ]
  },
  {
   "cell_type": "code",
   "execution_count": 108,
   "metadata": {},
   "outputs": [],
   "source": [
    "pts = get_hull_points(list)"
   ]
  },
  {
   "cell_type": "markdown",
   "metadata": {},
   "source": [
    "Stash points in a list was a bad idea"
   ]
  },
  {
   "cell_type": "code",
   "execution_count": 125,
   "metadata": {},
   "outputs": [],
   "source": [
    "def crutch(pts):\n",
    "    h_pts=[]\n",
    "    for i in range(0,len(pts),2):\n",
    "        h_pts.append([pts[i], pts[i+1]])\n",
    "    h_pts.append(h_pts[0])\n",
    "    return h_pts"
   ]
  },
  {
   "cell_type": "code",
   "execution_count": 126,
   "metadata": {},
   "outputs": [],
   "source": [
    "h_pts = crutch(pts)"
   ]
  },
  {
   "cell_type": "code",
   "execution_count": 127,
   "metadata": {},
   "outputs": [],
   "source": [
    "def picture2(hull_pts, init_list):\n",
    "    x_list = [x for [x,y] in hull_pts]\n",
    "    y_list = [y for [x,y] in hull_pts]\n",
    "\n",
    "    x_list_old = [x for [x,y] in init_list]\n",
    "    y_list_old = [y for [x,y] in init_list]\n",
    "\n",
    "    plt.figure()\n",
    "    plt.scatter(0.0, 10.0)\n",
    "    plt.plot(x_list, y_list)\n",
    "    plt.plot(x_list_old, y_list_old, 'ro')\n",
    "    plt.grid()\n",
    "    plt.show()\n"
   ]
  },
  {
   "cell_type": "code",
   "execution_count": 128,
   "metadata": {},
   "outputs": [
    {
     "data": {
      "image/png": "[encoded data removed]",
      "text/plain": [
       "<Figure size 432x288 with 1 Axes>"
      ]
     },
     "metadata": {
      "needs_background": "light"
     },
     "output_type": "display_data"
    }
   ],
   "source": [
    "picture2(h_pts, list)"
   ]
  },
  {
   "cell_type": "markdown",
   "metadata": {},
   "source": [
    "It works!\n",
    "\n",
    "Another one try"
   ]
  },
  {
   "cell_type": "code",
   "execution_count": 131,
   "metadata": {},
   "outputs": [
    {
     "data": {
      "image/png": "[encoded data removed]",
      "text/plain": [
       "<Figure size 432x288 with 1 Axes>"
      ]
     },
     "metadata": {
      "needs_background": "light"
     },
     "output_type": "display_data"
    },
    {
     "data": {
      "image/png": "[encoded data removed]",
      "text/plain": [
       "<Figure size 432x288 with 1 Axes>"
      ]
     },
     "metadata": {
      "needs_background": "light"
     },
     "output_type": "display_data"
    }
   ],
   "source": [
    "list2 = picture(15)\n",
    "pts2 = get_hull_points(list2)\n",
    "h_pts2 = crutch(pts2)\n",
    "picture2(h_pts2, list2)"
   ]
  }
 ],
 "metadata": {
  "kernelspec": {
   "display_name": "Python 3",
   "language": "python",
   "name": "python3"
  },
  "language_info": {
   "codemirror_mode": {
    "name": "ipython",
    "version": 3
   },
   "file_extension": ".py",
   "mimetype": "text/x-python",
   "name": "python",
   "nbconvert_exporter": "python",
   "pygments_lexer": "ipython3",
   "version": "3.6.7"
  }
 },
 "nbformat": 4,
 "nbformat_minor": 2
}
