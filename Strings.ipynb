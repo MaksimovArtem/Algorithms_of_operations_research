{
 "cells": [
  {
   "cell_type": "markdown",
   "metadata": {
    "_cell_guid": "b1076dfc-b9ad-4769-8c92-a6c4dae69d19",
    "_uuid": "8f2839f25d086af736a60e9eeb907d3b93b6e0e5"
   },
   "source": [
    "Done:\n",
    "\n",
    "- Генератор 1000 строк\n",
    "- Юниформ распределение алфавита\n",
    "- Длина слова 10-100-1000-10000\n",
    "- Длина паттерна 5\n",
    "- Посчитать среднее/макс/мин на каждой длине слова\n",
    "- Naive\n",
    "\n",
    "Undone:\n",
    "\n",
    "- RK\n",
    "- BMH\n",
    "- Отчет(оформление)"
   ]
  },
  {
   "cell_type": "code",
   "execution_count": 7,
   "metadata": {
    "_uuid": "d5a01ef1e3f3cb6f5bba1c808ed41eacf2be5d30"
   },
   "outputs": [],
   "source": [
    "#imports\n",
    "import random\n",
    "\n",
    "#constants\n",
    "PATTERN_LENGTH = 5\n",
    "ALP_LENGTH = 4"
   ]
  },
  {
   "cell_type": "code",
   "execution_count": 8,
   "metadata": {
    "_cell_guid": "79c7e3d0-c299-4dcb-8224-4455121ee9b0",
    "_uuid": "d629ff2d2480ee46fbb7e2d37f6b5fab8052498a"
   },
   "outputs": [],
   "source": [
    "def string_generator(alp_length, str_length):\n",
    "    string = []\n",
    "    for i in range(str_length):\n",
    "        string.append(chr(ord('a') + random.randint(0, alp_length - 1)))\n",
    "    return ''.join(string)\n",
    "\n",
    "def testset_generator(alp_length, str_length):\n",
    "    testset = []\n",
    "    for i in range (1000):\n",
    "        testset.append(string_generator(alp_length, str_length))\n",
    "    return testset\n",
    "\n",
    "def iterations_computation(algorithm, pattern, testset):\n",
    "    max_count = avg_count = sum_count = 0\n",
    "    min_count = 1e6\n",
    "    for string in testset:\n",
    "        result = algorithm(string, pattern)\n",
    "        count = result[1]\n",
    "        sum_count += count\n",
    "        if count >= max_count:\n",
    "            max_count = count\n",
    "        if count <= min_count:\n",
    "            min_count = count\n",
    "    avg_count = sum_count / len(testset)\n",
    "    return max_count, min_count, avg_count"
   ]
  },
  {
   "cell_type": "code",
   "execution_count": 9,
   "metadata": {
    "_uuid": "c9ed3b74a1e62dc5fdf6c5f2cf90f09b9e8356dc"
   },
   "outputs": [],
   "source": [
    "set10 = testset_generator(ALP_LENGTH, 10)\n",
    "set100 = testset_generator(ALP_LENGTH, 100)\n",
    "set1000 = testset_generator(ALP_LENGTH, 1000)\n",
    "set10000 = testset_generator(ALP_LENGTH, 10000)"
   ]
  },
  {
   "cell_type": "code",
   "execution_count": 10,
   "metadata": {
    "_uuid": "1e568fbc3d57bf8a9ac88cb5f50e9efc646802ca"
   },
   "outputs": [],
   "source": [
    "def Naive(string, pattern):\n",
    "    shifts_list = []\n",
    "    shifts_count = 0\n",
    "    comparisons_count = 0\n",
    "    for i in range(len(string) - PATTERN_LENGTH + 1):\n",
    "        shifts_count += 1\n",
    "        j = 0\n",
    "        while(j < PATTERN_LENGTH):\n",
    "            comparisons_count += 1\n",
    "            if string[i + j] != pattern[j]:\n",
    "                break\n",
    "            j += 1\n",
    "        if j != PATTERN_LENGTH:\n",
    "            shifts_list.append(i)\n",
    "        else:\n",
    "            break\n",
    "    return shifts_list, shifts_count + comparisons_count"
   ]
  },
  {
   "cell_type": "code",
   "execution_count": 11,
   "metadata": {
    "_uuid": "3dfaa2b0eaea1e7ff0270a9fa74b8e6a69547471"
   },
   "outputs": [],
   "source": [
    "pattern = string_generator(ALP_LENGTH, PATTERN_LENGTH)"
   ]
  },
  {
   "cell_type": "code",
   "execution_count": 12,
   "metadata": {
    "_uuid": "c1afc485c2bfe75d747ee6c8c59453b7d36181ab"
   },
   "outputs": [
    {
     "name": "stdout",
     "output_type": "stream",
     "text": [
      "19 8 13.992\n",
      "240 6 213.169\n",
      "2392 6 1487.06\n",
      "21477 6 2343.443\n"
     ]
    }
   ],
   "source": [
    "max10, min10, avg10 = iterations_computation(Naive, pattern, set10)\n",
    "print(max10, min10, avg10)\n",
    "max100, min100, avg100 = iterations_computation(Naive, pattern, set100)\n",
    "print(max100, min100, avg100)\n",
    "max1000, min1000, avg1000 = iterations_computation(Naive, pattern, set1000)\n",
    "print(max1000, min1000, avg1000)\n",
    "max10000, min10000, avg10000 = iterations_computation(Naive, pattern, set10000)\n",
    "print(max10000, min10000, avg10000)"
   ]
  },
  {
   "cell_type": "code",
   "execution_count": null,
   "metadata": {
    "_uuid": "ac09c24e34d78c754e6acce696b0ceb5fe4debc7"
   },
   "outputs": [],
   "source": []
  }
 ],
 "metadata": {
  "kernelspec": {
   "display_name": "Python 3",
   "language": "python",
   "name": "python3"
  },
  "language_info": {
   "codemirror_mode": {
    "name": "ipython",
    "version": 3
   },
   "file_extension": ".py",
   "mimetype": "text/x-python",
   "name": "python",
   "nbconvert_exporter": "python",
   "pygments_lexer": "ipython3",
   "version": "3.6.7"
  }
 },
 "nbformat": 4,
 "nbformat_minor": 2
}
