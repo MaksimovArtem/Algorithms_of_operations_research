{
 "cells": [
  {
   "cell_type": "markdown",
   "metadata": {
    "_cell_guid": "b1076dfc-b9ad-4769-8c92-a6c4dae69d19",
    "_uuid": "8f2839f25d086af736a60e9eeb907d3b93b6e0e5"
   },
   "source": [
    "Done:\n",
    "\n",
    "- Генератор 1000 строк\n",
    "- Юниформ распределение алфавита\n",
    "- Длина слова 10-100-1000-10000\n",
    "- Длина паттерна 5\n",
    "- Посчитать среднее/макс/мин на каждой длине слова\n",
    "- Naive\n",
    "\n",
    "Undone:\n",
    "\n",
    "- RK\n",
    "- BMH\n",
    "- Отчет(оформление)"
   ]
  },
  {
   "cell_type": "code",
   "execution_count": 69,
   "metadata": {
    "_uuid": "d5a01ef1e3f3cb6f5bba1c808ed41eacf2be5d30"
   },
   "outputs": [],
   "source": [
    "#imports\n",
    "import random\n",
    "\n",
    "#constants\n",
    "PATTERN_LENGTH = 3\n",
    "ALP_LENGTH = 3"
   ]
  },
  {
   "cell_type": "markdown",
   "metadata": {},
   "source": [
    "## Test framework functions"
   ]
  },
  {
   "cell_type": "code",
   "execution_count": 201,
   "metadata": {
    "_cell_guid": "79c7e3d0-c299-4dcb-8224-4455121ee9b0",
    "_uuid": "d629ff2d2480ee46fbb7e2d37f6b5fab8052498a"
   },
   "outputs": [],
   "source": [
    "def string_generator(alp_length, str_length):\n",
    "    string = []\n",
    "    for i in range(str_length):\n",
    "        string.append(chr(ord('a') + random.randint(0, alp_length - 1)))\n",
    "    return ''.join(string)\n",
    "\n",
    "def testset_generator(alp_length, str_length):\n",
    "    testset = []\n",
    "    for i in range (1000):\n",
    "        testset.append(string_generator(alp_length, str_length))\n",
    "    return testset\n",
    "\n",
    "def iterations_computation(algorithm, pattern, testset):\n",
    "    max_count = avg_count = sum_count = 0\n",
    "    min_count = 1e6\n",
    "    for string in testset:\n",
    "        result = algorithm(string, pattern)\n",
    "        count = result[1]\n",
    "        sum_count += count\n",
    "        if count >= max_count:\n",
    "            max_count = count\n",
    "        if count <= min_count:\n",
    "            min_count = count\n",
    "    avg_count = sum_count / len(testset)\n",
    "    return max_count, min_count, avg_count\n",
    "\n",
    "def test_on_naive(string, pattern, shifts_alg):\n",
    "    result = []\n",
    "    shifts_naive, counts = Naive(string,pattern)\n",
    "    if shifts_alg == shifts_naive:\n",
    "        return True\n",
    "    else:\n",
    "        return False"
   ]
  },
  {
   "cell_type": "code",
   "execution_count": 4,
   "metadata": {
    "_uuid": "c9ed3b74a1e62dc5fdf6c5f2cf90f09b9e8356dc"
   },
   "outputs": [],
   "source": [
    "set10 = testset_generator(ALP_LENGTH, 10)\n",
    "set100 = testset_generator(ALP_LENGTH, 100)\n",
    "set1000 = testset_generator(ALP_LENGTH, 1000)\n",
    "set10000 = testset_generator(ALP_LENGTH, 10000)"
   ]
  },
  {
   "cell_type": "markdown",
   "metadata": {},
   "source": [
    "## Naive algorithm\n",
    "### iters - chars comparisons"
   ]
  },
  {
   "cell_type": "code",
   "execution_count": 226,
   "metadata": {
    "_uuid": "1e568fbc3d57bf8a9ac88cb5f50e9efc646802ca"
   },
   "outputs": [],
   "source": [
    "def Naive(string, pattern):\n",
    "    shifts_list = []\n",
    "    shifts_count = comparisons_count = 0\n",
    "    for i in range(len(string) - PATTERN_LENGTH + 1):\n",
    "        shifts_count += 1\n",
    "        j = 0\n",
    "        while(j < PATTERN_LENGTH):\n",
    "            comparisons_count += 1\n",
    "            if string[i + j] != pattern[j]:\n",
    "                break\n",
    "            j += 1\n",
    "        if j == PATTERN_LENGTH:\n",
    "            shifts_list.append(i)\n",
    "    return shifts_list, shifts_count + comparisons_count"
   ]
  },
  {
   "cell_type": "code",
   "execution_count": 73,
   "metadata": {
    "_uuid": "3dfaa2b0eaea1e7ff0270a9fa74b8e6a69547471"
   },
   "outputs": [],
   "source": [
    "pattern = string_generator(ALP_LENGTH, PATTERN_LENGTH)"
   ]
  },
  {
   "cell_type": "code",
   "execution_count": 7,
   "metadata": {
    "_uuid": "c1afc485c2bfe75d747ee6c8c59453b7d36181ab"
   },
   "outputs": [
    {
     "name": "stdout",
     "output_type": "stream",
     "text": [
      "22 12 15.015\n",
      "268 217 239.818\n",
      "2563 2404 2483.355\n",
      "25153 24721 24931.587\n"
     ]
    }
   ],
   "source": [
    "max10, min10, avg10 = iterations_computation(Naive, pattern, set10)\n",
    "print(max10, min10, avg10)\n",
    "max100, min100, avg100 = iterations_computation(Naive, pattern, set100)\n",
    "print(max100, min100, avg100)\n",
    "max1000, min1000, avg1000 = iterations_computation(Naive, pattern, set1000)\n",
    "print(max1000, min1000, avg1000)\n",
    "max10000, min10000, avg10000 = iterations_computation(Naive, pattern, set10000)\n",
    "print(max10000, min10000, avg10000)"
   ]
  },
  {
   "cell_type": "markdown",
   "metadata": {
    "_uuid": "ac09c24e34d78c754e6acce696b0ceb5fe4debc7"
   },
   "source": [
    "## Boyer-Moore-Horspool\n",
    "### iters - preprocessing and chars comparisons"
   ]
  },
  {
   "cell_type": "code",
   "execution_count": 229,
   "metadata": {},
   "outputs": [],
   "source": [
    "def preprocessing_BMH(pattern):\n",
    "    shifts_table = [PATTERN_LENGTH for i in range(ALP_LENGTH)]\n",
    "    position = PATTERN_LENGTH - 1\n",
    "    preprocessing_count = 0\n",
    "    for char in range(PATTERN_LENGTH - 1, 0, -1):\n",
    "        preprocessing_count += 1\n",
    "        char_place = ord(pattern[char]) - ord('a')\n",
    "        if shifts_table[char_place] == PATTERN_LENGTH:\n",
    "            shifts_table[char_place] = position + 1\n",
    "        position -= 1\n",
    "    return shifts_table, preprocessing_count"
   ]
  },
  {
   "cell_type": "code",
   "execution_count": 230,
   "metadata": {},
   "outputs": [],
   "source": [
    "def BMH(string, pattern):\n",
    "    table, preprocessing_count = preprocessing_BMH(pattern)\n",
    "    shifts = []\n",
    "    shift_count = comparison_count = 0\n",
    "    i = 0\n",
    "    while (i < len(string) - PATTERN_LENGTH + 1):#5-3+1 = 3\n",
    "        shift_count += 1\n",
    "        flag = True\n",
    "        j = PATTERN_LENGTH - 1\n",
    "        while (j >= 0):\n",
    "            comparison_count += 1\n",
    "            if pattern[j] != string[i + j]:\n",
    "                i += table[ord(string[i + j]) - ord('a')] - 1\n",
    "                flag = False\n",
    "                break\n",
    "            j -= 1     \n",
    "        if j == -1:\n",
    "            shifts.append(i)\n",
    "        if flag:\n",
    "            i += 1\n",
    "    if test_on_naive(string, pattern, shifts):\n",
    "        return shifts, shift_count + comparison_count + preprocessing_count, True\n",
    "    else:\n",
    "        print(\"Error\")\n",
    "        print(shifts)\n",
    "        print(Naive(string, pattern))\n",
    "        print(string, pattern)\n",
    "        print(\"---------------------------\")\n",
    "        \n",
    "        return shifts, shift_count + comparison_count + preprocessing_count, False\n",
    "        "
   ]
  },
  {
   "cell_type": "code",
   "execution_count": 235,
   "metadata": {},
   "outputs": [
    {
     "name": "stdout",
     "output_type": "stream",
     "text": [
      "24 10 15.483\n",
      "187 137 160.852\n",
      "1717 1533 1614.889\n",
      "16448 15873 16144.968\n"
     ]
    }
   ],
   "source": [
    "max10, min10, avg10 = iterations_computation(BMH, pattern, set10)\n",
    "print(max10, min10, avg10)\n",
    "max100, min100, avg100 = iterations_computation(BMH, pattern, set100)\n",
    "print(max100, min100, avg100)\n",
    "max1000, min1000, avg1000 = iterations_computation(BMH, pattern, set1000)\n",
    "print(max1000, min1000, avg1000)\n",
    "max10000, min10000, avg10000 = iterations_computation(BMH, pattern, set10000)\n",
    "print(max10000, min10000, avg10000)"
   ]
  },
  {
   "cell_type": "code",
   "execution_count": null,
   "metadata": {},
   "outputs": [],
   "source": []
  }
 ],
 "metadata": {
  "kernelspec": {
   "display_name": "Python 3",
   "language": "python",
   "name": "python3"
  },
  "language_info": {
   "codemirror_mode": {
    "name": "ipython",
    "version": 3
   },
   "file_extension": ".py",
   "mimetype": "text/x-python",
   "name": "python",
   "nbconvert_exporter": "python",
   "pygments_lexer": "ipython3",
   "version": "3.6.7"
  }
 },
 "nbformat": 4,
 "nbformat_minor": 2
}
