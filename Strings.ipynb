{
  "cells": [
    {
      "metadata": {
        "_uuid": "8f2839f25d086af736a60e9eeb907d3b93b6e0e5",
        "_cell_guid": "b1076dfc-b9ad-4769-8c92-a6c4dae69d19",
        "trusted": true
      },
      "cell_type": "markdown",
      "source": "Done:\n\n- Генератор 1000 строк\n- Юниформ распределение алфавита\n- Длина слова 10-100-1000-10000\n- Длина паттерна 5\n- Посчитать среднее/макс/мин на каждой длине слова\n- Naive\n\nUndone:\n\n- RK\n- BMH\n- Отчет(оформление)"
    },
    {
      "metadata": {
        "trusted": true,
        "_uuid": "d5a01ef1e3f3cb6f5bba1c808ed41eacf2be5d30"
      },
      "cell_type": "code",
      "source": "#imports:\nimport numpy as np\nimport pandas as pd\n\n#constants\nPATTERN_LENGTH = 5",
      "execution_count": 1,
      "outputs": []
    },
    {
      "metadata": {
        "_cell_guid": "79c7e3d0-c299-4dcb-8224-4455121ee9b0",
        "_uuid": "d629ff2d2480ee46fbb7e2d37f6b5fab8052498a",
        "trusted": true
      },
      "cell_type": "code",
      "source": "def string_generator(alp_length, str_length):\n    string = []\n    for i in range (str_length):\n        string.append(chr(97 + np.random.randint(0,alp_length)))\n    #print(string)\n    return string\n\ndef testset_generator(alp_length, str_length):\n    testset = []\n    for i in range (1000):\n        testset.append(string_generator(alp_length, str_length))\n    return testset\n\ndef iterations_computation(algorithm, pattern, testset):\n    max_count = avg_count = sum_count =  0\n    min_count = 10e5\n    frame = pd.DataFrame({'str': testset})\n    for i in range (len(testset)):\n        string = frame.iloc[i]\n        result = string.apply(lambda x: algorithm(string[0], len(string[0]), pattern))\n        count = result[0][1]\n        sum_count = sum_count + count\n        if count >= max_count:\n            max_count = count\n        if count <= min_count:\n            min_count = count\n    avg_count = sum_count / len(testset)\n    return max_count, min_count, avg_count\n            ",
      "execution_count": 2,
      "outputs": []
    },
    {
      "metadata": {
        "trusted": true,
        "_uuid": "c9ed3b74a1e62dc5fdf6c5f2cf90f09b9e8356dc"
      },
      "cell_type": "code",
      "source": "set10 = testset_generator(4,10)\nset100 = testset_generator(4,100)\nset1000 = testset_generator(4,1000)\nset10000 = testset_generator(4,10000)\n",
      "execution_count": null,
      "outputs": []
    },
    {
      "metadata": {
        "trusted": true,
        "_uuid": "1e568fbc3d57bf8a9ac88cb5f50e9efc646802ca"
      },
      "cell_type": "code",
      "source": "def Naive(string, str_length, pattern):\n    shifts_list = []\n    shifts_count = 0\n    comparisons_count = 0\n    for i in range(str_length - PATTERN_LENGTH + 1):#нужен ли +1???\n        shifts_count = shifts_count + 1\n        flag = True\n        for j in range (PATTERN_LENGTH):\n            comparisons_count = comparisons_count + 1\n            if i + j < str_length and string[i + j] != pattern[j]:\n                flag = False\n                break\n        if flag:\n            shifts_list.append(i)\n    return shifts_list, shifts_count+comparisons_count ",
      "execution_count": null,
      "outputs": []
    },
    {
      "metadata": {
        "trusted": true,
        "_uuid": "3dfaa2b0eaea1e7ff0270a9fa74b8e6a69547471"
      },
      "cell_type": "code",
      "source": "#a = ['a','c','a','b','b','c','c','c','c','b']\n#['c','c','c','c']\npattern = string_generator(4,5)",
      "execution_count": null,
      "outputs": []
    },
    {
      "metadata": {
        "trusted": true,
        "_uuid": "c1afc485c2bfe75d747ee6c8c59453b7d36181ab"
      },
      "cell_type": "code",
      "source": "max10, min10, avg10 = iterations_computation(Naive, pattern, set10)\nprint(max10, min10, avg10)\nmax100, min100, avg100 =iterations_computation(Naive, pattern, set100)\nprint(max100, min100, avg100)\nmax1000, min1000, avg1000 =iterations_computation(Naive, pattern, set1000)\nprint(max1000, min1000, avg1000)\nmax10000, min10000, avg10000 =iterations_computation(Naive, pattern, set10000)\nprint(max10000, min10000, avg10000)",
      "execution_count": null,
      "outputs": []
    },
    {
      "metadata": {
        "trusted": true,
        "_uuid": "ac09c24e34d78c754e6acce696b0ceb5fe4debc7"
      },
      "cell_type": "code",
      "source": "",
      "execution_count": null,
      "outputs": []
    }
  ],
  "metadata": {
    "kernelspec": {
      "display_name": "Python 3",
      "language": "python",
      "name": "python3"
    },
    "language_info": {
      "name": "python",
      "version": "3.6.6",
      "mimetype": "text/x-python",
      "codemirror_mode": {
        "name": "ipython",
        "version": 3
      },
      "pygments_lexer": "ipython3",
      "nbconvert_exporter": "python",
      "file_extension": ".py"
    }
  },
  "nbformat": 4,
  "nbformat_minor": 1
}