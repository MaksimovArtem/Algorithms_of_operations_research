{
 "cells": [
  {
   "cell_type": "markdown",
   "metadata": {},
   "source": [
    "# Лабораторная работа №1\n",
    "## Выполнили Смирнов Егор и Максимов Артем "
   ]
  },
  {
   "cell_type": "markdown",
   "metadata": {},
   "source": [
    "В этой лабораторной мы реализовали 4 алгоритма поиска подстроки в строке:\n",
    "    \n",
    "- Наивный алгоритм\n",
    "- Алгоритм Boyer-Moure-Horspool\n",
    "- Алгоритм Rabin-Karp\n",
    "- Алгоритм Knuth-Morris-Pratt\n",
    "    \n",
    "и сравнили скорость их работы(через количество атомарных итераций)"
   ]
  },
  {
   "cell_type": "code",
   "execution_count": 35,
   "metadata": {
    "_uuid": "d5a01ef1e3f3cb6f5bba1c808ed41eacf2be5d30"
   },
   "outputs": [],
   "source": [
    "#imports\n",
    "import random\n",
    "import matplotlib.pyplot as plt\n",
    "from math import log10"
   ]
  },
  {
   "cell_type": "markdown",
   "metadata": {},
   "source": [
    "## Функции для тестировки\n",
    "\n",
    "- Генератор строк\n",
    "- Генератор сетов на основе генератора строк\n",
    "- Функция подсчета итераций\n",
    "- Функция проверки правильности на наивном алгоритме"
   ]
  },
  {
   "cell_type": "code",
   "execution_count": 36,
   "metadata": {
    "_cell_guid": "79c7e3d0-c299-4dcb-8224-4455121ee9b0",
    "_uuid": "d629ff2d2480ee46fbb7e2d37f6b5fab8052498a"
   },
   "outputs": [],
   "source": [
    "def string_generator(alp_length, str_length):\n",
    "    string = []\n",
    "    for i in range(str_length):\n",
    "        string.append(chr(ord('a') + random.randint(0, alp_length - 1)))\n",
    "    return ''.join(string)\n",
    "\n",
    "def testset_generator(alp_length, str_length):\n",
    "    testset = []\n",
    "    for i in range (1000):\n",
    "        testset.append(string_generator(alp_length, str_length))\n",
    "    return testset\n",
    "\n",
    "def iterations_computation(algorithm, pattern, alp_length, testset):\n",
    "    max_count = avg_count = sum_count = 0\n",
    "    min_count = 1e6\n",
    "    for string in testset:\n",
    "        result = algorithm(string, pattern, alp_length)\n",
    "        count = result[1]\n",
    "        sum_count += count\n",
    "        if count >= max_count:\n",
    "            max_count = count\n",
    "        if count <= min_count:\n",
    "            min_count = count\n",
    "    avg_count = sum_count / len(testset)\n",
    "    return max_count, min_count, avg_count\n",
    "\n",
    "def test_on_naive(string, pattern, shifts_alg, alp_length):\n",
    "    result = []\n",
    "    shifts_naive, counts = Naive(string, pattern, alp_length)\n",
    "    if shifts_alg != shifts_naive:\n",
    "        print(\"Error\")\n",
    "        print(shifts_alg)\n",
    "        print(shifts_naive)\n",
    "        print(string, pattern)\n",
    "        print(\"---------------------------\")"
   ]
  },
  {
   "cell_type": "markdown",
   "metadata": {},
   "source": [
    "## Реализация наивного алгоритма\n",
    "\n",
    "За атомарные итерации считали количество сравнений"
   ]
  },
  {
   "cell_type": "code",
   "execution_count": 37,
   "metadata": {
    "_uuid": "1e568fbc3d57bf8a9ac88cb5f50e9efc646802ca"
   },
   "outputs": [],
   "source": [
    "def Naive(string, pattern, alp_length):\n",
    "    shifts_list = []\n",
    "    shifts_count = comparisons_count = 0\n",
    "    for i in range(len(string) - len(pattern) + 1):\n",
    "        j = 0\n",
    "        while(j < len(pattern)):\n",
    "            comparisons_count += 1\n",
    "            if string[i + j] != pattern[j]:\n",
    "                break\n",
    "            j += 1\n",
    "        if j == len(pattern):\n",
    "            shifts_list.append(i)\n",
    "    return shifts_list, comparisons_count"
   ]
  },
  {
   "cell_type": "markdown",
   "metadata": {
    "_uuid": "ac09c24e34d78c754e6acce696b0ceb5fe4debc7"
   },
   "source": [
    "## Реализация алгоритма Boyer-Moure-Horspool\n",
    "\n",
    "За атомарные операции считали действия, совершенные во время препроцессинга и операции сравнения символов"
   ]
  },
  {
   "cell_type": "code",
   "execution_count": 38,
   "metadata": {},
   "outputs": [],
   "source": [
    "def preprocessing_BMH(pattern, alp_length):\n",
    "    shifts_table = [len(pattern) for i in range(alp_length)]\n",
    "    preprocessing_count = alp_length\n",
    "\n",
    "    for i in range(len(pattern) - 1):\n",
    "        preprocessing_count += 1\n",
    "        shifts_table[ord(pattern[i]) - 97] = len(pattern) - 1 - i\n",
    "    return shifts_table, preprocessing_count"
   ]
  },
  {
   "cell_type": "code",
   "execution_count": 39,
   "metadata": {},
   "outputs": [],
   "source": [
    "def BMH(string, pattern, alp_length):\n",
    "    table, preprocessing_count = preprocessing_BMH(pattern, alp_length)\n",
    "    shifts = []\n",
    "    comparison_count = 0\n",
    "    i = 0\n",
    "    while (i < len(string) - len(pattern) + 1):\n",
    "        flag = True\n",
    "        j = len(pattern) - 1\n",
    "        while (j >= 0):\n",
    "            comparison_count += 1\n",
    "            if pattern[j] != string[i + j]:\n",
    "                i += table[ord(string[i + len(pattern) - 1]) - ord('a')] - 1\n",
    "                flag = False\n",
    "                break\n",
    "            j -= 1     \n",
    "        if flag:\n",
    "            shifts.append(i)\n",
    "        i += 1\n",
    "    test_on_naive(string, pattern, shifts, alp_length)\n",
    "    return shifts, comparison_count + preprocessing_count"
   ]
  },
  {
   "cell_type": "markdown",
   "metadata": {},
   "source": [
    "Результат работы сравнивается с результатом, выданным наивным алгоритмом для проверки правильнотси работы"
   ]
  },
  {
   "cell_type": "markdown",
   "metadata": {},
   "source": [
    "## Реализация алгоритма Rabin-Karp\n",
    "\n",
    "За атомарные операции считали сдвиги, сравненние символов, хэширование и сравнение хэшей"
   ]
  },
  {
   "cell_type": "code",
   "execution_count": 40,
   "metadata": {},
   "outputs": [],
   "source": [
    "class RKhasher:\n",
    "    q = 2305843009213693951\n",
    "    x = 2305893951\n",
    "\n",
    "    @staticmethod\n",
    "    def hash(string, len_pattern):\n",
    "        res = 0\n",
    "        for i in range(len_pattern):\n",
    "            res += ord(string[i]) * RKhasher.x**(len_pattern - 1 - i)\n",
    "        return res % RKhasher.q\n",
    "\n",
    "    @staticmethod\n",
    "    def move(hs, len_pattern, string, i):\n",
    "        return ((hs - ord(string[i]) * RKhasher.x**(len_pattern - 1))*RKhasher.x + ord(string[(i + len_pattern) % len(string)])) % RKhasher.q"
   ]
  },
  {
   "cell_type": "code",
   "execution_count": 41,
   "metadata": {},
   "outputs": [],
   "source": [
    "def RabinKarp(string, pattern, alp_length):\n",
    "    shifts = []\n",
    "    preprocessing_count = 2*len(pattern)\n",
    "    hash_comp_count = comparison_count = hash_recount = 0 \n",
    "    hs = RKhasher.hash(string, len(pattern))\n",
    "    hpat = RKhasher.hash(pattern, len(pattern))\n",
    "    for i in range(len(string) - len(pattern) + 1):\n",
    "        hash_comp_count += 1\n",
    "        if hs == hpat:\n",
    "            j = 0\n",
    "            while j < len(pattern):\n",
    "                comparison_count += 1\n",
    "                if string[i+j] != pattern[j]:\n",
    "                    break\n",
    "                j += 1\n",
    "            if j == len(pattern):\n",
    "                shifts.append(i)\n",
    "        hs = RKhasher.move(hs, len(pattern), string, i)\n",
    "        hash_recount += 1\n",
    "    test_on_naive(string, pattern, shifts, alp_length)\n",
    "    return shifts, preprocessing_count + hash_comp_count + comparison_count + hash_recount"
   ]
  },
  {
   "cell_type": "markdown",
   "metadata": {},
   "source": [
    "## Реализация алгоритма Knuth-Morris-Pratt"
   ]
  },
  {
   "cell_type": "code",
   "execution_count": 42,
   "metadata": {},
   "outputs": [],
   "source": [
    "def prefix_function(string):\n",
    "    prefix_table = [0] * len(string)\n",
    "    iterations = 0\n",
    "    for i in range(1, len(string)):\n",
    "        j = prefix_table[i - 1]\n",
    "        while (j > 0 and string[i] != string[j]):\n",
    "            j = prefix_table[j - 1]\n",
    "            iterations += 1\n",
    "        if (string[i] == string[j]):\n",
    "            j += 1\n",
    "        prefix_table[i] = j\n",
    "        iterations += 1\n",
    "    return prefix_table, iterations"
   ]
  },
  {
   "cell_type": "code",
   "execution_count": 43,
   "metadata": {},
   "outputs": [],
   "source": [
    "def KMP(string, pattern, alp_length):\n",
    "    new_string = pattern + '$' + string\n",
    "    prefix_table, iters = prefix_function(new_string)\n",
    "    shifts = []\n",
    "    for i in range(len(pattern) + 1, len(prefix_table)):\n",
    "        if prefix_table[i] == len(pattern):\n",
    "            iters += 1\n",
    "            shifts.append(i - 2*len(pattern))\n",
    "    test_on_naive(string, pattern, shifts, alp_length)\n",
    "    return shifts, iters"
   ]
  },
  {
   "cell_type": "markdown",
   "metadata": {},
   "source": [
    "После мы визуализировали полученные результаты:"
   ]
  },
  {
   "cell_type": "code",
   "execution_count": 44,
   "metadata": {},
   "outputs": [],
   "source": [
    "def graph_result(pattern_len, alp_lens):\n",
    "    alg_list = [Naive, BMH, RabinKarp, KMP]\n",
    "    x = [10**x for x in range(1,5)]\n",
    "    for alp_length in alp_lens:\n",
    "        sets = [0] * 4\n",
    "        pattern = string_generator(alp_length, pattern_len)\n",
    "        for i in map(lambda x : 10**x, range(1, 5)):\n",
    "                sets[int(log10(i)) - 1] = testset_generator(alp_length, i)\n",
    "        for algo in alg_list:\n",
    "            y = []\n",
    "            for i in range(4):\n",
    "                y.append(iterations_computation(algo, pattern, alp_length, sets[i])[2])\n",
    "            print(\"{} : {}\".format(algo.__name__, y))\n",
    "            plt.plot(x, y)\n",
    "            plt.yticks(y)\n",
    "            plt.xscale('log')\n",
    "        plt.show()"
   ]
  },
  {
   "cell_type": "code",
   "execution_count": 45,
   "metadata": {},
   "outputs": [
    {
     "name": "stdout",
     "output_type": "stream",
     "text": [
      "Naive : [8.033, 127.79, 1327.472, 13315.926]\n",
      "BMH : [11.468, 54.054, 474.845, 4692.619]\n",
      "RabinKarp : [22.035, 202.44, 2006.78, 20050.285]\n",
      "KMP : [17.209, 129.647, 1256.13, 12513.427]\n"
     ]
    },
    {
     "data": {
      "image/png": "[encoded data removed]",
      "text/plain": [
       "<Figure size 432x288 with 1 Axes>"
      ]
     },
     "metadata": {
      "needs_background": "light"
     },
     "output_type": "display_data"
    },
    {
     "name": "stdout",
     "output_type": "stream",
     "text": [
      "Naive : [6.671, 106.686, 1106.203, 11107.679]\n",
      "BMH : [16.383, 41.461, 293.834, 2818.106]\n",
      "RabinKarp : [22.0, 202.0, 2002.04, 20002.48]\n",
      "KMP : [15.888, 114.872, 1104.593, 11005.636]\n"
     ]
    },
    {
     "data": {
      "image/png": "[encoded data removed]",
      "text/plain": [
       "<Figure size 432x288 with 1 Axes>"
      ]
     },
     "metadata": {
      "needs_background": "light"
     },
     "output_type": "display_data"
    },
    {
     "name": "stdout",
     "output_type": "stream",
     "text": [
      "Naive : [6.221, 99.767, 1035.81, 10394.946]\n",
      "BMH : [32.096, 51.82, 251.532, 2249.477]\n",
      "RabinKarp : [22.0, 202.0, 2002.0, 20002.0]\n",
      "KMP : [15.322, 108.743, 1043.351, 10388.703]\n"
     ]
    },
    {
     "data": {
      "image/png": "[encoded data removed]",
      "text/plain": [
       "<Figure size 432x288 with 1 Axes>"
      ]
     },
     "metadata": {
      "needs_background": "light"
     },
     "output_type": "display_data"
    }
   ],
   "source": [
    "pattern_len = 5\n",
    "alp_lens = [4, 10, 26]\n",
    "\n",
    "graph_result(pattern_len, alp_lens) #Посмотрим на влияние мощности алфавита"
   ]
  },
  {
   "cell_type": "markdown",
   "metadata": {},
   "source": [
    "В общем, можно заметить, что количество итераций относительно длины строки зависит линейно: длина строки увеличилась в 10 раз - количество операций увеличилось примерно также.\n",
    "\n",
    "Самые плохие результаты показывает алгоритм RK из-за того, что часто прходится делать сравнения хэшей и пересчитывать их как только они не совпали; самые хорошие - алгоритм BMH, что не удивительно, ведь последний лучше всего оптимизирует количество сдвигов за счет эвристики \"плохого символа\".\n",
    "\n",
    "Лучшие результаты алгоритмы выдают на алфавите бОльшей длины, что не удивительно - больше вероятность встретить несовпадающий символ и передвинуться на несколько позиций по строке."
   ]
  },
  {
   "cell_type": "code",
   "execution_count": null,
   "metadata": {},
   "outputs": [],
   "source": []
  }
 ],
 "metadata": {
  "kernelspec": {
   "display_name": "Python 3",
   "language": "python",
   "name": "python3"
  },
  "language_info": {
   "codemirror_mode": {
    "name": "ipython",
    "version": 3
   },
   "file_extension": ".py",
   "mimetype": "text/x-python",
   "name": "python",
   "nbconvert_exporter": "python",
   "pygments_lexer": "ipython3",
   "version": "3.6.7"
  }
 },
 "nbformat": 4,
 "nbformat_minor": 2
}
