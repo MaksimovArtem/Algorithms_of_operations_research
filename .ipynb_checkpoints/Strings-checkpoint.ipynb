{
 "cells": [
  {
   "cell_type": "markdown",
   "metadata": {},
   "source": [
    "# Лабораторная работа №1\n",
    "## Выполнили Смирнов Егор и Максимов Артем "
   ]
  },
  {
   "cell_type": "markdown",
   "metadata": {},
   "source": [
    "В этой лабораторной мы реализовали 3 алгоритма поиска подстроки в строке:\n",
    "    \n",
    "- Наивный алгоритм\n",
    "- Алгоритм Boyer-Moure_Horspool\n",
    "- Алгоритм Rabin-Karp\n",
    "    \n",
    "и сравнили скорость их работы(через количество атомарных итераций)"
   ]
  },
  {
   "cell_type": "code",
   "execution_count": 127,
   "metadata": {
    "_uuid": "d5a01ef1e3f3cb6f5bba1c808ed41eacf2be5d30"
   },
   "outputs": [],
   "source": [
    "#imports\n",
    "import random\n",
    "import matplotlib.pyplot as plt\n",
    "\n",
    "#constants\n",
    "PATTERN_LENGTH = 5\n",
    "ALP_LENGTH = 4"
   ]
  },
  {
   "cell_type": "markdown",
   "metadata": {},
   "source": [
    "## Функции для тестировки"
   ]
  },
  {
   "cell_type": "code",
   "execution_count": 128,
   "metadata": {
    "_cell_guid": "79c7e3d0-c299-4dcb-8224-4455121ee9b0",
    "_uuid": "d629ff2d2480ee46fbb7e2d37f6b5fab8052498a"
   },
   "outputs": [],
   "source": [
    "def string_generator(alp_length, str_length):\n",
    "    string = []\n",
    "    for i in range(str_length):\n",
    "        string.append(chr(ord('a') + random.randint(0, alp_length - 1)))\n",
    "    return ''.join(string)\n",
    "\n",
    "def testset_generator(alp_length, str_length):\n",
    "    testset = []\n",
    "    for i in range (1000):\n",
    "        testset.append(string_generator(alp_length, str_length))\n",
    "    return testset\n",
    "\n",
    "def iterations_computation(algorithm, pattern, testset):\n",
    "    max_count = avg_count = sum_count = 0\n",
    "    min_count = 1e6\n",
    "    for string in testset:\n",
    "        result = algorithm(string, pattern)\n",
    "        count = result[1]\n",
    "        sum_count += count\n",
    "        if count >= max_count:\n",
    "            max_count = count\n",
    "        if count <= min_count:\n",
    "            min_count = count\n",
    "    avg_count = sum_count / len(testset)\n",
    "    return max_count, min_count, avg_count\n",
    "\n",
    "def test(algo):    \n",
    "    max10, min10, avg10 = test_10(algo)\n",
    "    print(max10, min10, avg10)\n",
    "    max100, min100, avg100 = test_100(algo)\n",
    "    print(max100, min100, avg100)\n",
    "    max1000, min1000, avg1000 = test_1000(algo)\n",
    "    print(max1000, min1000, avg1000)\n",
    "    max10000, min10000, avg10000 = test_10000(algo)\n",
    "    print(max10000, min10000, avg10000)\n",
    "\n",
    "def test_10(algo):\n",
    "    return iterations_computation(algo, pattern, set10)\n",
    "\n",
    "def test_100(algo):\n",
    "    return iterations_computation(algo, pattern, set100)\n",
    "        \n",
    "def test_1000(algo):\n",
    "    return iterations_computation(algo, pattern, set1000)\n",
    "    \n",
    "def test_10000(algo):\n",
    "    return iterations_computation(algo, pattern, set10000)\n",
    "    \n",
    "def test_on_naive(string, pattern, shifts_alg):\n",
    "    result = []\n",
    "    shifts_naive, counts = Naive(string,pattern)\n",
    "    if shifts_alg != shifts_naive:\n",
    "        print(\"Error\")\n",
    "        print(shifts_alg)\n",
    "        print(shifts_naive)\n",
    "        print(string, pattern)\n",
    "        print(\"---------------------------\")"
   ]
  },
  {
   "cell_type": "markdown",
   "metadata": {},
   "source": [
    "Сгенеровали паттерн длины 5 и 4 сета тестовых данных длин 10, 100, 1000 и 10000 элементов\n",
    "\n",
    "Количество букв в алфавите - 4"
   ]
  },
  {
   "cell_type": "code",
   "execution_count": 129,
   "metadata": {
    "_uuid": "c9ed3b74a1e62dc5fdf6c5f2cf90f09b9e8356dc"
   },
   "outputs": [],
   "source": [
    "pattern = string_generator(ALP_LENGTH, PATTERN_LENGTH)\n",
    "\n",
    "set10 = testset_generator(ALP_LENGTH, 10)\n",
    "set100 = testset_generator(ALP_LENGTH, 100)\n",
    "set1000 = testset_generator(ALP_LENGTH, 1000)\n",
    "set10000 = testset_generator(ALP_LENGTH, 10000)"
   ]
  },
  {
   "cell_type": "markdown",
   "metadata": {},
   "source": [
    "## Реализация наивного алгоритма\n",
    "\n",
    "За атомарные итерации считали количество сдвигов и сравнений"
   ]
  },
  {
   "cell_type": "code",
   "execution_count": 130,
   "metadata": {
    "_uuid": "1e568fbc3d57bf8a9ac88cb5f50e9efc646802ca"
   },
   "outputs": [],
   "source": [
    "def Naive(string, pattern):\n",
    "    shifts_list = []\n",
    "    shifts_count = comparisons_count = 0\n",
    "    for i in range(len(string) - PATTERN_LENGTH + 1):\n",
    "        if i > 0:\n",
    "            shifts_count += 1\n",
    "        j = 0\n",
    "        while(j < PATTERN_LENGTH):\n",
    "            comparisons_count += 1\n",
    "            if string[i + j] != pattern[j]:\n",
    "                break\n",
    "            j += 1\n",
    "        if j == PATTERN_LENGTH:\n",
    "            shifts_list.append(i)\n",
    "    return shifts_list, shifts_count + comparisons_count"
   ]
  },
  {
   "cell_type": "code",
   "execution_count": 131,
   "metadata": {
    "_uuid": "c1afc485c2bfe75d747ee6c8c59453b7d36181ab"
   },
   "outputs": [
    {
     "name": "stdout",
     "output_type": "stream",
     "text": [
      "26 11 13.023\n",
      "252 202 223.181\n",
      "2410 2237 2320.738\n",
      "23598 23050 23311.381\n"
     ]
    }
   ],
   "source": [
    "test(Naive)"
   ]
  },
  {
   "cell_type": "markdown",
   "metadata": {
    "_uuid": "ac09c24e34d78c754e6acce696b0ceb5fe4debc7"
   },
   "source": [
    "## Реализация алгоритма Boyer-Moure-Horspool\n",
    "\n",
    "За атомарные операции считали действия, совершенные во время препроцессинга, сдвиги и  операции сравнения символов"
   ]
  },
  {
   "cell_type": "code",
   "execution_count": 132,
   "metadata": {},
   "outputs": [],
   "source": [
    "def preprocessing_BMH(pattern):\n",
    "    shifts_table = [PATTERN_LENGTH for i in range(ALP_LENGTH)]\n",
    "    preprocessing_count = ALP_LENGTH\n",
    "\n",
    "    for i in range(PATTERN_LENGTH - 1):\n",
    "        preprocessing_count += 1\n",
    "        shifts_table[ord(pattern[i]) - 97] = PATTERN_LENGTH - 1 - i\n",
    "    return shifts_table, preprocessing_count"
   ]
  },
  {
   "cell_type": "code",
   "execution_count": 133,
   "metadata": {},
   "outputs": [],
   "source": [
    "def BMH(string, pattern):\n",
    "    table, preprocessing_count = preprocessing_BMH(pattern)\n",
    "    shifts = []\n",
    "    shift_count = comparison_count = 0\n",
    "    i = 0\n",
    "    while (i < len(string) - PATTERN_LENGTH + 1):\n",
    "        shift_count += 1\n",
    "        flag = True\n",
    "        j = PATTERN_LENGTH - 1\n",
    "        while (j >= 0):\n",
    "            comparison_count += 1\n",
    "            if pattern[j] != string[i + j]:\n",
    "                i += table[ord(string[i + PATTERN_LENGTH - 1]) - ord('a')] - 1\n",
    "                flag = False\n",
    "                break\n",
    "            j -= 1     \n",
    "        if flag:\n",
    "            shifts.append(i)\n",
    "        i += 1\n",
    "    test_on_naive(string, pattern, shifts)\n",
    "    return shifts, shift_count + comparison_count + preprocessing_count"
   ]
  },
  {
   "cell_type": "markdown",
   "metadata": {},
   "source": [
    "Результат работы сравнивается с результатом, выданным наивным алгоритмом для проверки правильнотси работы"
   ]
  },
  {
   "cell_type": "code",
   "execution_count": 134,
   "metadata": {},
   "outputs": [
    {
     "name": "stdout",
     "output_type": "stream",
     "text": [
      "22 12 13.706\n",
      "105 61 80.56\n",
      "835 687 748.162\n",
      "7648 7239 7437.63\n"
     ]
    }
   ],
   "source": [
    "test(BMH)"
   ]
  },
  {
   "cell_type": "markdown",
   "metadata": {},
   "source": [
    "## Реализация алгоритма Rabin-Karp\n",
    "\n",
    "За атомарные операции считали сдвиги, сравненние символов, хэширование и сравнение хэшей"
   ]
  },
  {
   "cell_type": "code",
   "execution_count": 135,
   "metadata": {},
   "outputs": [],
   "source": [
    "class RKhasher:\n",
    "    q = 115249\n",
    "    x = 70644\n",
    "\n",
    "    @staticmethod\n",
    "    def hash(string):\n",
    "        res = 0\n",
    "        for i in range(PATTERN_LENGTH):\n",
    "            res += ord(string[i]) * RKhasher.x**(PATTERN_LENGTH - 1 - i)\n",
    "        return res % RKhasher.q\n",
    "\n",
    "    @staticmethod\n",
    "    def move(hs, string, i):\n",
    "        return ((hs - ord(string[i]) * RKhasher.x**(PATTERN_LENGTH - 1))*RKhasher.x + ord(string[(i + PATTERN_LENGTH) % len(string)])) % RKhasher.q"
   ]
  },
  {
   "cell_type": "code",
   "execution_count": 136,
   "metadata": {},
   "outputs": [],
   "source": [
    "def RabinKarp(string, pattern):\n",
    "    shifts = []\n",
    "    shift_count = PATTERN_LENGTH\n",
    "    comparison_count = 0\n",
    "    hs = RKhasher.hash(string)\n",
    "    hpat = RKhasher.hash(pattern)\n",
    "    for i in range(len(string) - PATTERN_LENGTH + 1):\n",
    "        shift_count += 1\n",
    "        if hs == hpat:\n",
    "            j = 0\n",
    "            while j < PATTERN_LENGTH:\n",
    "                comparison_count += 1\n",
    "                if string[i+j] != pattern[j]:\n",
    "                    break\n",
    "                j += 1\n",
    "            if j == PATTERN_LENGTH:\n",
    "                shifts.append(i)\n",
    "        hs = RKhasher.move(hs, string, i)\n",
    "    test_on_naive(string, pattern, shifts)\n",
    "    return shifts, shift_count + comparison_count"
   ]
  },
  {
   "cell_type": "code",
   "execution_count": 138,
   "metadata": {},
   "outputs": [
    {
     "name": "stdout",
     "output_type": "stream",
     "text": [
      "16 11 11.015\n",
      "111 101 101.525\n",
      "1026 1001 1005.71\n",
      "10101 10006 10049.33\n"
     ]
    }
   ],
   "source": [
    "test(RabinKarp)"
   ]
  },
  {
   "cell_type": "markdown",
   "metadata": {},
   "source": [
    "После мы визуализировали полученные результаты:"
   ]
  },
  {
   "cell_type": "code",
   "execution_count": 139,
   "metadata": {},
   "outputs": [],
   "source": [
    "def graph_result():\n",
    "    alg_list = [Naive, BMH, RabinKarp]\n",
    "    for algo in alg_list:\n",
    "        max10, min10, avg10 = test_10(algo)\n",
    "        max100, min100, avg100 = test_100(algo)\n",
    "        max1000, min1000, avg1000 = test_1000(algo)\n",
    "        max10000, min10000, avg10000 = test_10000(algo)\n",
    "    \n",
    "        x = [10, 100, 1000, 10000]\n",
    "        y = [avg10, avg100, avg1000, avg10000]\n",
    "        fig = plt.figure()\n",
    "        plt.plot(x,y, color = 'red', label = 'line')\n",
    "        plt.xscale('log')\n",
    "        plt.show()"
   ]
  },
  {
   "cell_type": "code",
   "execution_count": 140,
   "metadata": {},
   "outputs": [
    {
     "data": {
      "image/png": "[encoded data removed]",
      "text/plain": [
       "<Figure size 432x288 with 1 Axes>"
      ]
     },
     "metadata": {
      "needs_background": "light"
     },
     "output_type": "display_data"
    },
    {
     "data": {
      "image/png": "[encoded data removed]",
      "text/plain": [
       "<Figure size 432x288 with 1 Axes>"
      ]
     },
     "metadata": {
      "needs_background": "light"
     },
     "output_type": "display_data"
    },
    {
     "data": {
      "image/png": "[encoded data removed]",
      "text/plain": [
       "<Figure size 432x288 with 1 Axes>"
      ]
     },
     "metadata": {
      "needs_background": "light"
     },
     "output_type": "display_data"
    }
   ],
   "source": [
    "graph_result()"
   ]
  },
  {
   "cell_type": "markdown",
   "metadata": {},
   "source": [
    "Дальше мы увеличили размер алфавита до 26 символов и повторили все действия"
   ]
  },
  {
   "cell_type": "code",
   "execution_count": 141,
   "metadata": {},
   "outputs": [],
   "source": [
    "ALP_LENGTH = 26\n",
    "\n",
    "pattern = string_generator(ALP_LENGTH, PATTERN_LENGTH)\n",
    "set10 = testset_generator(ALP_LENGTH, 10)\n",
    "set100 = testset_generator(ALP_LENGTH, 100)\n",
    "set1000 = testset_generator(ALP_LENGTH, 1000)\n",
    "set10000 = testset_generator(ALP_LENGTH, 10000)"
   ]
  },
  {
   "cell_type": "code",
   "execution_count": 142,
   "metadata": {},
   "outputs": [
    {
     "name": "stdout",
     "output_type": "stream",
     "text": [
      "14 11 11.221\n",
      "203 191 194.796\n",
      "2050 2014 2030.882\n",
      "20457 20334 20390.049\n"
     ]
    }
   ],
   "source": [
    "test(Naive)"
   ]
  },
  {
   "cell_type": "code",
   "execution_count": 143,
   "metadata": {},
   "outputs": [
    {
     "name": "stdout",
     "output_type": "stream",
     "text": [
      "38 34 34.115\n",
      "83 70 73.333\n",
      "494 449 471.335\n",
      "4518 4389 4452.593\n"
     ]
    }
   ],
   "source": [
    "test(BMH)"
   ]
  },
  {
   "cell_type": "code",
   "execution_count": 144,
   "metadata": {},
   "outputs": [
    {
     "name": "stdout",
     "output_type": "stream",
     "text": [
      "11 11 11.0\n",
      "102 101 101.002\n",
      "1006 1001 1001.013\n",
      "10006 10001 10001.088\n"
     ]
    }
   ],
   "source": [
    "test(RabinKarp)"
   ]
  },
  {
   "cell_type": "markdown",
   "metadata": {},
   "source": [
    "Результаты также представлены в виде графиков:"
   ]
  },
  {
   "cell_type": "code",
   "execution_count": 145,
   "metadata": {},
   "outputs": [
    {
     "data": {
      "image/png": "[encoded data removed]",
      "text/plain": [
       "<Figure size 432x288 with 1 Axes>"
      ]
     },
     "metadata": {
      "needs_background": "light"
     },
     "output_type": "display_data"
    },
    {
     "data": {
      "image/png": "[encoded data removed]",
      "text/plain": [
       "<Figure size 432x288 with 1 Axes>"
      ]
     },
     "metadata": {
      "needs_background": "light"
     },
     "output_type": "display_data"
    },
    {
     "data": {
      "image/png": "[encoded data removed]",
      "text/plain": [
       "<Figure size 432x288 with 1 Axes>"
      ]
     },
     "metadata": {
      "needs_background": "light"
     },
     "output_type": "display_data"
    }
   ],
   "source": [
    "graph_result()"
   ]
  },
  {
   "cell_type": "markdown",
   "metadata": {},
   "source": [
    "В общем, можно заметить, что количество итераций относительно длины строки зависит линейно: длина строки увеличилась в 10 раз - количество операций увеличилось примерно также.\n",
    "\n",
    "Самые плохие результаты показывает наивный алгоритм, самые хорошие - алгоритм BMH, что не удивительно, ведь последний лучше всего оптимизирует количество сдвигов за счет эвристики \"плохого символа\".\n",
    "\n",
    "По какой-то причине на алфавите бОльшего размеры алгоритмы дают более хорошие результаты."
   ]
  },
  {
   "cell_type": "code",
   "execution_count": null,
   "metadata": {},
   "outputs": [],
   "source": []
  }
 ],
 "metadata": {
  "kernelspec": {
   "display_name": "Python 3",
   "language": "python",
   "name": "python3"
  },
  "language_info": {
   "codemirror_mode": {
    "name": "ipython",
    "version": 3
   },
   "file_extension": ".py",
   "mimetype": "text/x-python",
   "name": "python",
   "nbconvert_exporter": "python",
   "pygments_lexer": "ipython3",
   "version": "3.6.7"
  }
 },
 "nbformat": 4,
 "nbformat_minor": 2
}
